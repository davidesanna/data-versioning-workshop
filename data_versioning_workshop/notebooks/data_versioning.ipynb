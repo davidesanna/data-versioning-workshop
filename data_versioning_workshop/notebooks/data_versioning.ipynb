{
 "cells": [
  {
   "cell_type": "code",
   "execution_count": 1,
   "id": "feae3bd8-3b85-4173-83ac-ba8abff903a4",
   "metadata": {},
   "outputs": [],
   "source": [
    "import os\n",
    "import sys\n",
    "import json\n",
    "\n",
    "import pandas as pd\n",
    "import numpy as np\n",
    "import pickle\n",
    "\n",
    "from sklearn.datasets import load_wine\n",
    "from sklearn.ensemble import RandomForestClassifier\n",
    "from sklearn.model_selection import train_test_split\n",
    "from sklearn.metrics import accuracy_score"
   ]
  },
  {
   "cell_type": "code",
   "execution_count": 2,
   "id": "6feeb51f-0f17-4c80-9d81-991b7da7654e",
   "metadata": {},
   "outputs": [],
   "source": [
    "DATA_PATH = os.path.join(os.path.abspath(\"../..\"), \"data/\")\n",
    "MODEL_PATH = os.path.join(os.path.abspath(\"../..\"), \"models/\")\n",
    "METRICS_PATH = os.path.join(os.path.abspath(\"../..\"), \"metrics/\")"
   ]
  },
  {
   "cell_type": "code",
   "execution_count": 3,
   "id": "e70caf0c-3b5f-4b7b-aa6d-91502f9723f6",
   "metadata": {},
   "outputs": [],
   "source": [
    "# get dataset\n",
    "wine = load_wine()\n",
    "\n",
    "# load dataframe\n",
    "data = pd.DataFrame(data= np.c_[wine['data'], wine['target']],\n",
    "                     columns= wine['feature_names'] + ['target'])\n"
   ]
  },
  {
   "cell_type": "code",
   "execution_count": 4,
   "id": "3ef7d7c3-1a60-420d-b170-476d6a351979",
   "metadata": {},
   "outputs": [
    {
     "data": {
      "text/html": [
       "<div>\n",
       "<style scoped>\n",
       "    .dataframe tbody tr th:only-of-type {\n",
       "        vertical-align: middle;\n",
       "    }\n",
       "\n",
       "    .dataframe tbody tr th {\n",
       "        vertical-align: top;\n",
       "    }\n",
       "\n",
       "    .dataframe thead th {\n",
       "        text-align: right;\n",
       "    }\n",
       "</style>\n",
       "<table border=\"1\" class=\"dataframe\">\n",
       "  <thead>\n",
       "    <tr style=\"text-align: right;\">\n",
       "      <th></th>\n",
       "      <th>alcohol</th>\n",
       "      <th>malic_acid</th>\n",
       "      <th>ash</th>\n",
       "      <th>alcalinity_of_ash</th>\n",
       "      <th>magnesium</th>\n",
       "      <th>total_phenols</th>\n",
       "      <th>flavanoids</th>\n",
       "      <th>nonflavanoid_phenols</th>\n",
       "      <th>proanthocyanins</th>\n",
       "      <th>color_intensity</th>\n",
       "      <th>hue</th>\n",
       "      <th>od280/od315_of_diluted_wines</th>\n",
       "      <th>proline</th>\n",
       "      <th>target</th>\n",
       "    </tr>\n",
       "  </thead>\n",
       "  <tbody>\n",
       "    <tr>\n",
       "      <th>0</th>\n",
       "      <td>14.23</td>\n",
       "      <td>1.71</td>\n",
       "      <td>2.43</td>\n",
       "      <td>15.6</td>\n",
       "      <td>127.0</td>\n",
       "      <td>2.80</td>\n",
       "      <td>3.06</td>\n",
       "      <td>0.28</td>\n",
       "      <td>2.29</td>\n",
       "      <td>5.64</td>\n",
       "      <td>1.04</td>\n",
       "      <td>3.92</td>\n",
       "      <td>1065.0</td>\n",
       "      <td>0.0</td>\n",
       "    </tr>\n",
       "    <tr>\n",
       "      <th>1</th>\n",
       "      <td>13.20</td>\n",
       "      <td>1.78</td>\n",
       "      <td>2.14</td>\n",
       "      <td>11.2</td>\n",
       "      <td>100.0</td>\n",
       "      <td>2.65</td>\n",
       "      <td>2.76</td>\n",
       "      <td>0.26</td>\n",
       "      <td>1.28</td>\n",
       "      <td>4.38</td>\n",
       "      <td>1.05</td>\n",
       "      <td>3.40</td>\n",
       "      <td>1050.0</td>\n",
       "      <td>0.0</td>\n",
       "    </tr>\n",
       "    <tr>\n",
       "      <th>2</th>\n",
       "      <td>13.16</td>\n",
       "      <td>2.36</td>\n",
       "      <td>2.67</td>\n",
       "      <td>18.6</td>\n",
       "      <td>101.0</td>\n",
       "      <td>2.80</td>\n",
       "      <td>3.24</td>\n",
       "      <td>0.30</td>\n",
       "      <td>2.81</td>\n",
       "      <td>5.68</td>\n",
       "      <td>1.03</td>\n",
       "      <td>3.17</td>\n",
       "      <td>1185.0</td>\n",
       "      <td>0.0</td>\n",
       "    </tr>\n",
       "    <tr>\n",
       "      <th>3</th>\n",
       "      <td>14.37</td>\n",
       "      <td>1.95</td>\n",
       "      <td>2.50</td>\n",
       "      <td>16.8</td>\n",
       "      <td>113.0</td>\n",
       "      <td>3.85</td>\n",
       "      <td>3.49</td>\n",
       "      <td>0.24</td>\n",
       "      <td>2.18</td>\n",
       "      <td>7.80</td>\n",
       "      <td>0.86</td>\n",
       "      <td>3.45</td>\n",
       "      <td>1480.0</td>\n",
       "      <td>0.0</td>\n",
       "    </tr>\n",
       "    <tr>\n",
       "      <th>4</th>\n",
       "      <td>13.24</td>\n",
       "      <td>2.59</td>\n",
       "      <td>2.87</td>\n",
       "      <td>21.0</td>\n",
       "      <td>118.0</td>\n",
       "      <td>2.80</td>\n",
       "      <td>2.69</td>\n",
       "      <td>0.39</td>\n",
       "      <td>1.82</td>\n",
       "      <td>4.32</td>\n",
       "      <td>1.04</td>\n",
       "      <td>2.93</td>\n",
       "      <td>735.0</td>\n",
       "      <td>0.0</td>\n",
       "    </tr>\n",
       "  </tbody>\n",
       "</table>\n",
       "</div>"
      ],
      "text/plain": [
       "   alcohol  malic_acid   ash  alcalinity_of_ash  magnesium  total_phenols  \\\n",
       "0    14.23        1.71  2.43               15.6      127.0           2.80   \n",
       "1    13.20        1.78  2.14               11.2      100.0           2.65   \n",
       "2    13.16        2.36  2.67               18.6      101.0           2.80   \n",
       "3    14.37        1.95  2.50               16.8      113.0           3.85   \n",
       "4    13.24        2.59  2.87               21.0      118.0           2.80   \n",
       "\n",
       "   flavanoids  nonflavanoid_phenols  proanthocyanins  color_intensity   hue  \\\n",
       "0        3.06                  0.28             2.29             5.64  1.04   \n",
       "1        2.76                  0.26             1.28             4.38  1.05   \n",
       "2        3.24                  0.30             2.81             5.68  1.03   \n",
       "3        3.49                  0.24             2.18             7.80  0.86   \n",
       "4        2.69                  0.39             1.82             4.32  1.04   \n",
       "\n",
       "   od280/od315_of_diluted_wines  proline  target  \n",
       "0                          3.92   1065.0     0.0  \n",
       "1                          3.40   1050.0     0.0  \n",
       "2                          3.17   1185.0     0.0  \n",
       "3                          3.45   1480.0     0.0  \n",
       "4                          2.93    735.0     0.0  "
      ]
     },
     "execution_count": 4,
     "metadata": {},
     "output_type": "execute_result"
    }
   ],
   "source": [
    "data.head()"
   ]
  },
  {
   "cell_type": "code",
   "execution_count": 5,
   "id": "52bd1b2e-5971-4825-8771-f190aba021ae",
   "metadata": {},
   "outputs": [
    {
     "data": {
      "text/plain": [
       "(178, 14)"
      ]
     },
     "execution_count": 5,
     "metadata": {},
     "output_type": "execute_result"
    }
   ],
   "source": [
    "data.shape"
   ]
  },
  {
   "cell_type": "code",
   "execution_count": 6,
   "id": "502c9332-ba7d-429e-9f08-895c25ded213",
   "metadata": {},
   "outputs": [],
   "source": [
    "train_df, test_df = train_test_split(data, test_size=0.3)"
   ]
  },
  {
   "cell_type": "code",
   "execution_count": 7,
   "id": "36b17a6f-14af-4c3b-bbec-b557c54f1374",
   "metadata": {},
   "outputs": [],
   "source": [
    "# save data locally\n",
    "train_df.to_parquet(DATA_PATH + \"df_train.parquet\")\n",
    "test_df.to_parquet(DATA_PATH + \"df_test.parquet\")"
   ]
  },
  {
   "cell_type": "markdown",
   "id": "ec319120-0da2-4c24-b7ff-fc7171acffb8",
   "metadata": {},
   "source": [
    "# Setting Up DVC"
   ]
  },
  {
   "cell_type": "markdown",
   "id": "152f620e-2e1d-4848-813a-0191f8b5b5ae",
   "metadata": {},
   "source": [
    "After having saved the data locally/in the cloud for the first time, we have to initialize DVC the same way we do with **git**, adding a remote repository, and finally start tracking the data.\n",
    "\n",
    "1. Initalize DVC: *dvc init* (creates a .dvcignore and a config file)\n",
    "2. Setup remote repository (local, GCS, s3, Azure): *dvc remote add -d [name] <path/to/storage>* (e.g., dvc remote add -d localremote ./data-remote)\n",
    "3. Commit Initialization of DVC: *git commit -m \"DVC initialized\"*"
   ]
  },
  {
   "cell_type": "markdown",
   "id": "d024b880-7c02-4ac9-a3a7-28d2db9ae636",
   "metadata": {},
   "source": [
    "# Let´s train a model"
   ]
  },
  {
   "cell_type": "code",
   "execution_count": 8,
   "id": "143548a2-c238-4264-8c09-41f320b91f4b",
   "metadata": {},
   "outputs": [],
   "source": [
    "x_train, y_train = train_df.drop(\"target\", axis=1), train_df[\"target\"]\n",
    "x_test, y_test = test_df.drop(\"target\", axis=1), test_df[\"target\"]"
   ]
  },
  {
   "cell_type": "code",
   "execution_count": 9,
   "id": "2b800c64-3e89-4537-82f5-335e68524a03",
   "metadata": {},
   "outputs": [],
   "source": [
    "RFC = RandomForestClassifier()\n",
    "RFC.fit(x_train, y_train)\n",
    "predictions = RFC.predict(x_test)"
   ]
  },
  {
   "cell_type": "code",
   "execution_count": 10,
   "id": "10e78b1c-bbd1-43c3-add2-711ee0e36d40",
   "metadata": {},
   "outputs": [],
   "source": [
    "acc = accuracy_score(y_test, predictions)"
   ]
  },
  {
   "cell_type": "code",
   "execution_count": 12,
   "id": "165891da-b91e-481d-a67b-391b3f838c62",
   "metadata": {},
   "outputs": [
    {
     "data": {
      "text/plain": [
       "0.9814814814814815"
      ]
     },
     "execution_count": 12,
     "metadata": {},
     "output_type": "execute_result"
    }
   ],
   "source": [
    "acc"
   ]
  },
  {
   "cell_type": "code",
   "execution_count": 13,
   "id": "b26d4964-0131-48a2-aaa1-b4fc15ebca2e",
   "metadata": {},
   "outputs": [],
   "source": [
    "metrics_dict = {\"accuracy\": acc}"
   ]
  },
  {
   "cell_type": "code",
   "execution_count": 14,
   "id": "8a8d6aad-f2c5-4284-af1e-3fd322df344c",
   "metadata": {},
   "outputs": [],
   "source": [
    "with open(MODEL_PATH+'model.pkl', 'wb') as model_file:\n",
    "    pickle.dump(RFC, model_file)"
   ]
  },
  {
   "cell_type": "code",
   "execution_count": 15,
   "id": "d12213ba-9583-4ff1-ba70-c66a564125ba",
   "metadata": {},
   "outputs": [],
   "source": [
    "with open(METRICS_PATH+'accuracy.json', 'w') as metrics_file:\n",
    "    json.dump(metrics_dict, metrics_file)"
   ]
  },
  {
   "cell_type": "markdown",
   "id": "b349218c-9849-4ca3-baf9-ce1bcd2cd800",
   "metadata": {
    "tags": []
   },
   "source": [
    "# Track data, model, and corresponding metrics"
   ]
  },
  {
   "cell_type": "markdown",
   "id": "b8ce379d-a0bd-47c2-b67d-ca967cc4c2ea",
   "metadata": {},
   "source": [
    "1. Start data, model, metrics tracking: *dvc add <path/to/data> add path/to/model path/to/metrics** (metadata is generated as .dvc file) **Warning:** arguments of *dvc add* should be the actual files, not the .dvc metadata\n",
    "2. Commit autogenerated .dvc, .gitignore file to git: *git commit -m \"Original Dataset\"*\n",
    "3. (Optional) Setup a tag for the commit: *git tag -a \"<version>\" -m \"<model version>, <dataset-version>\"* (e.g., *git tag -a \"v1.0\" -m \"model v1.0, all-features*\". You can check tag list with __*git tag -n*__\n",
    "4. Push changes: *git push && dvc push*"
   ]
  },
  {
   "cell_type": "markdown",
   "id": "1f777058-07d3-40d3-b6d4-1e50c08b2257",
   "metadata": {},
   "source": [
    "# Model and Data Changes"
   ]
  },
  {
   "cell_type": "code",
   "execution_count": 77,
   "id": "b5a63369-2883-43be-bbc8-ad073b2e7416",
   "metadata": {},
   "outputs": [],
   "source": [
    "data = data.drop([\"ash\", \"magnesium\", \"flavanoids\"], axis=1)\n",
    "data.to_parquet(DATA_PATH + \"data.parquet\")"
   ]
  },
  {
   "cell_type": "code",
   "execution_count": 78,
   "id": "577c92b8-9af2-44f6-a1b2-2271f175640a",
   "metadata": {},
   "outputs": [],
   "source": [
    "train_df, test_df = train_test_split(data, test_size=0.3)\n",
    "\n",
    "x_train, y_train = train_df.drop(\"target\", axis=1), train_df[\"target\"]\n",
    "x_test, y_test = test_df.drop(\"target\", axis=1), test_df[\"target\"]"
   ]
  },
  {
   "cell_type": "code",
   "execution_count": 79,
   "id": "2ecd708a-1563-4c90-83dd-867fded0f29c",
   "metadata": {},
   "outputs": [],
   "source": [
    "RFC = RandomForestClassifier()\n",
    "RFC.fit(x_train, y_train)\n",
    "predictions = RFC.predict(x_test)"
   ]
  },
  {
   "cell_type": "code",
   "execution_count": 80,
   "id": "9d2657b4-e5a3-417d-b775-bf4ac900652c",
   "metadata": {},
   "outputs": [],
   "source": [
    "acc = accuracy_score(y_test, predictions)\n",
    "\n",
    "metrics_dict = {\"accuracy\": acc}"
   ]
  },
  {
   "cell_type": "code",
   "execution_count": 89,
   "id": "78a69f6f-78d5-4062-9fc2-8940a2d94d52",
   "metadata": {},
   "outputs": [],
   "source": [
    "with open(MODEL_PATH+'model.pkl', 'wb') as model_file:\n",
    "    pickle.dump(RFC, model_file)\n",
    "    \n",
    "with open(METRICS_PATH+'accuracy.json', 'w') as metrics_file:\n",
    "    json.dump(metrics_dict, metrics_file)"
   ]
  },
  {
   "cell_type": "code",
   "execution_count": 88,
   "id": "d06e67c5-29f7-4878-a06f-b5989aac937f",
   "metadata": {},
   "outputs": [
    {
     "data": {
      "text/plain": [
       "{'accuracy': 0.9814814814814815}"
      ]
     },
     "execution_count": 88,
     "metadata": {},
     "output_type": "execute_result"
    }
   ],
   "source": [
    "metrics_dict"
   ]
  },
  {
   "cell_type": "code",
   "execution_count": 85,
   "id": "1258b234-1414-407e-821e-562014905fdb",
   "metadata": {},
   "outputs": [],
   "source": [
    "data.to_parquet(DATA_PATH + \"data.parquet\")"
   ]
  },
  {
   "cell_type": "markdown",
   "id": "dd7a7b86-a71c-4e5f-9844-410f97d93342",
   "metadata": {},
   "source": [
    "# Repeat the DVC Workflow"
   ]
  },
  {
   "cell_type": "markdown",
   "id": "79f83104-8296-4c26-ad9a-40dc5d8863bb",
   "metadata": {},
   "source": [
    "After having saved the data locally/in the cloud for the first time, we have to initialize DVC the same way we do with **git**, adding a remote repository, and finally start tracking the data.\n",
    "\n",
    "1. Track Data: *dvc add <path/to/data>* (metadata is generated as .dvc file)\n",
    "2. Commit autogenerated .dvc file to git: *git commit -m \"Original Dataset\"*\n",
    "3. (Optional) Set a tag to git commit for easier retrieval: *git tag <tagname>*\n",
    "4. Push changes to github and to remote dvc repo: *git push && dvc push*"
   ]
  },
  {
   "cell_type": "markdown",
   "id": "417a22b4-b48e-4d8c-86a9-b456d7eeca51",
   "metadata": {},
   "source": [
    "# Revert to Original Version"
   ]
  },
  {
   "cell_type": "markdown",
   "id": "ab26a168-6437-4431-ba2c-6813b7b6bf11",
   "metadata": {},
   "source": [
    "1. *git checkout [tag-name]*\n",
    "2. *dvc checkout*"
   ]
  },
  {
   "cell_type": "markdown",
   "id": "b2251dd6-dbfc-4e79-b221-62c81d2ce971",
   "metadata": {},
   "source": [
    "# Losing Data"
   ]
  },
  {
   "cell_type": "markdown",
   "id": "776b56f8-09b7-43a4-9a95-dafb5ae64c63",
   "metadata": {},
   "source": [
    "1. git checkout metrics/accuracy.json.dvc models/model.pkl.dvc data/data.parquet.dvc\n",
    "2. dvc pull metrics/accuracy.json.dvc models/model.pkl.dvc data/data.parquet.dvc"
   ]
  }
 ],
 "metadata": {
  "kernelspec": {
   "display_name": "Python 3 (ipykernel)",
   "language": "python",
   "name": "python3"
  },
  "language_info": {
   "codemirror_mode": {
    "name": "ipython",
    "version": 3
   },
   "file_extension": ".py",
   "mimetype": "text/x-python",
   "name": "python",
   "nbconvert_exporter": "python",
   "pygments_lexer": "ipython3",
   "version": "3.9.6"
  }
 },
 "nbformat": 4,
 "nbformat_minor": 5
}
